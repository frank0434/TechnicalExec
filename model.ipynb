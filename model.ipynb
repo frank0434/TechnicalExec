{
 "cells": [
  {
   "cell_type": "markdown",
   "metadata": {},
   "source": [
    "# Goals:\n",
    "-\tBuild a model to predict the number of sales (Item_Outlet_Sales) using the available features.\n",
    "-\tGain insights about the number of sales.\n"
   ]
  },
  {
   "cell_type": "code",
   "execution_count": 1,
   "metadata": {},
   "outputs": [],
   "source": [
    "import pandas as pd\n",
    "import numpy as np\n",
    "import matplotlib.pyplot as plt\n",
    "import seaborn as sns\n",
    "import category_encoders as ce\n",
    "from sklearn.ensemble import  RandomForestRegressor\n",
    "from sklearn.model_selection import train_test_split\n",
    "from sklearn.metrics import mean_squared_error\n",
    "from sklearn.metrics import mean_absolute_error\n",
    "from sklearn.metrics import r2_score\n",
    "from sklearn.preprocessing import Normalizer, StandardScaler, MinMaxScaler, PowerTransformer, MaxAbsScaler\n",
    "from sklearn import linear_model\n",
    "from sklearn.model_selection import KFold\n",
    "from sklearn.model_selection import cross_val_score\n",
    "from sklearn.model_selection import GridSearchCV\n",
    "from sklearn.metrics import confusion_matrix\n",
    "from sklearn.metrics import accuracy_score\n",
    "from sklearn.pipeline import Pipeline\n",
    "%matplotlib inline"
   ]
  },
  {
   "cell_type": "markdown",
   "metadata": {},
   "source": [
    "# Overview"
   ]
  },
  {
   "cell_type": "code",
   "execution_count": 2,
   "metadata": {},
   "outputs": [],
   "source": [
    "# read the train data\n",
    "data = pd.read_csv('Data\\BigMart.csv')\n",
    "# check for the null values\n",
    "data.isna().sum()\n",
    "# Drop row number \n",
    "data.drop(\"Unnamed: 0\", axis = 1, inplace=True) \n"
   ]
  },
  {
   "cell_type": "code",
   "execution_count": 3,
   "metadata": {},
   "outputs": [
    {
     "data": {
      "text/plain": [
       "<matplotlib.axes._subplots.AxesSubplot at 0x21ac24b6220>"
      ]
     },
     "execution_count": 3,
     "metadata": {},
     "output_type": "execute_result"
    },
    {
     "data": {
      "image/png": "[encoded data removed]",
      "text/plain": [
       "<Figure size 432x288 with 1 Axes>"
      ]
     },
     "metadata": {
      "needs_background": "light"
     },
     "output_type": "display_data"
    }
   ],
   "source": [
    "# data.Item_Weight.hist()\n",
    "data.Outlet_Size.hist()"
   ]
  },
  {
   "cell_type": "code",
   "execution_count": 4,
   "metadata": {},
   "outputs": [
    {
     "name": "stdout",
     "output_type": "stream",
     "text": [
      "['FDA15' 'DRC01' 'FDN15' ... 'NCF55' 'NCW30' 'NCW05']\n",
      "['Low Fat' 'Regular' 'low fat' 'LF' 'reg']\n",
      "['Dairy' 'Soft Drinks' 'Meat' 'Fruits and Vegetables' 'Household'\n",
      " 'Baking Goods' 'Snack Foods' 'Frozen Foods' 'Breakfast'\n",
      " 'Health and Hygiene' 'Hard Drinks' 'Canned' 'Breads' 'Starchy Foods'\n",
      " 'Others' 'Seafood']\n",
      "['OUT049' 'OUT018' 'OUT010' 'OUT013' 'OUT027' 'OUT045' 'OUT017' 'OUT046'\n",
      " 'OUT035' 'OUT019']\n",
      "['Medium' nan 'High' 'Small']\n",
      "['Supermarket Type1' 'Supermarket Type2' 'Grocery Store'\n",
      " 'Supermarket Type3']\n"
     ]
    }
   ],
   "source": [
    "data.describe()\n",
    "df_ = data.select_dtypes(exclude=['int', 'float'])\n",
    "for col in df_.columns:\n",
    "    print(df_[col].unique()) # to print categories name only\n",
    "    # print(df_[col].value_counts()) # to print count of every category"
   ]
  },
  {
   "cell_type": "markdown",
   "metadata": {},
   "source": [
    "## Data clean"
   ]
  },
  {
   "cell_type": "code",
   "execution_count": 5,
   "metadata": {},
   "outputs": [],
   "source": [
    "# Fix some irregular values \n",
    "data.loc[data['Item_Fat_Content'].isin(['LF','low fat']), 'Item_Fat_Content'] = 'Low Fat'\n",
    "data.loc[data['Item_Fat_Content'].isin(['reg']), 'Item_Fat_Content'] = 'Regular'"
   ]
  },
  {
   "cell_type": "code",
   "execution_count": 6,
   "metadata": {},
   "outputs": [],
   "source": [
    "# impute NAs by mean\n",
    "data.Item_Weight.fillna(data.Item_Weight.mean(),inplace=True)\n",
    "# during EDA in R, discovered NAs present in Grocery and Supermarket type 1. \n",
    "# assume Grocery store are small and use mode for Type1 supermarket \n",
    "\n",
    "data.loc[:, ['Outlet_Type', 'Outlet_Size']].drop_duplicates()\n",
    "data.loc[data['Outlet_Type'].eq('Grocery Store') & data['Outlet_Size'].isna(), 'Outlet_Size'] = 'Small'\n",
    "data.Outlet_Size.mode()\n",
    "data.loc[data['Outlet_Type'].eq('Supermarket Type1') & data['Outlet_Size'].isna(), 'Outlet_Size'] = 'Medium'\n",
    "data.loc[:, ['Outlet_Type', 'Outlet_Size']].drop_duplicates()\n",
    "data.loc[:, ['Item_Type']].drop_duplicates()\n",
    "data.Outlet_Location_Type = data.Outlet_Location_Type.astype('str')\n",
    "# save it \n",
    "data.to_csv(\"Data/cleaned.csv\", index=False)\n"
   ]
  },
  {
   "cell_type": "code",
   "execution_count": 7,
   "metadata": {},
   "outputs": [],
   "source": [
    "data = pd.read_csv('Data/cleaned.csv')"
   ]
  },
  {
   "cell_type": "markdown",
   "metadata": {},
   "source": [
    "## Data preProcessing \n",
    "\n",
    "### Code categorical variables "
   ]
  },
  {
   "cell_type": "code",
   "execution_count": 8,
   "metadata": {},
   "outputs": [],
   "source": [
    "# create an object of the OneHotEncoder\n",
    "Encoder = ce.OneHotEncoder(cols=['Item_Fat_Content',\n",
    "                                 'Item_Type',\n",
    "                                 'Outlet_Identifier',\n",
    "                                 'Outlet_Size',\n",
    "                                 'Outlet_Location_Type',\n",
    "                                 'Outlet_Type'],\n",
    "                                 use_cat_names=True)\n",
    "# encode the categorical variables\n",
    "data = Encoder.fit_transform(data)"
   ]
  },
  {
   "cell_type": "code",
   "execution_count": 9,
   "metadata": {},
   "outputs": [
    {
     "data": {
      "text/html": [
       "<div>\n",
       "<style scoped>\n",
       "    .dataframe tbody tr th:only-of-type {\n",
       "        vertical-align: middle;\n",
       "    }\n",
       "\n",
       "    .dataframe tbody tr th {\n",
       "        vertical-align: top;\n",
       "    }\n",
       "\n",
       "    .dataframe thead th {\n",
       "        text-align: right;\n",
       "    }\n",
       "</style>\n",
       "<table border=\"1\" class=\"dataframe\">\n",
       "  <thead>\n",
       "    <tr style=\"text-align: right;\">\n",
       "      <th></th>\n",
       "      <th>Item_Identifier</th>\n",
       "      <th>Item_Weight</th>\n",
       "      <th>Item_Fat_Content_Low Fat</th>\n",
       "      <th>Item_Fat_Content_Regular</th>\n",
       "      <th>Item_Visibility</th>\n",
       "      <th>Item_Type_Dairy</th>\n",
       "      <th>Item_Type_Soft Drinks</th>\n",
       "      <th>Item_Type_Meat</th>\n",
       "      <th>Item_Type_Fruits and Vegetables</th>\n",
       "      <th>Item_Type_Household</th>\n",
       "      <th>...</th>\n",
       "      <th>Outlet_Size_Small</th>\n",
       "      <th>Outlet_Size_High</th>\n",
       "      <th>Outlet_Location_Type_1.0</th>\n",
       "      <th>Outlet_Location_Type_3.0</th>\n",
       "      <th>Outlet_Location_Type_2.0</th>\n",
       "      <th>Outlet_Type_Supermarket Type1</th>\n",
       "      <th>Outlet_Type_Supermarket Type2</th>\n",
       "      <th>Outlet_Type_Grocery Store</th>\n",
       "      <th>Outlet_Type_Supermarket Type3</th>\n",
       "      <th>Item_Outlet_Sales</th>\n",
       "    </tr>\n",
       "  </thead>\n",
       "  <tbody>\n",
       "    <tr>\n",
       "      <th>0</th>\n",
       "      <td>FDA15</td>\n",
       "      <td>9.300</td>\n",
       "      <td>1</td>\n",
       "      <td>0</td>\n",
       "      <td>0.016047</td>\n",
       "      <td>1</td>\n",
       "      <td>0</td>\n",
       "      <td>0</td>\n",
       "      <td>0</td>\n",
       "      <td>0</td>\n",
       "      <td>...</td>\n",
       "      <td>0</td>\n",
       "      <td>0</td>\n",
       "      <td>1</td>\n",
       "      <td>0</td>\n",
       "      <td>0</td>\n",
       "      <td>1</td>\n",
       "      <td>0</td>\n",
       "      <td>0</td>\n",
       "      <td>0</td>\n",
       "      <td>3735.1380</td>\n",
       "    </tr>\n",
       "    <tr>\n",
       "      <th>1</th>\n",
       "      <td>DRC01</td>\n",
       "      <td>5.920</td>\n",
       "      <td>0</td>\n",
       "      <td>1</td>\n",
       "      <td>0.019278</td>\n",
       "      <td>0</td>\n",
       "      <td>1</td>\n",
       "      <td>0</td>\n",
       "      <td>0</td>\n",
       "      <td>0</td>\n",
       "      <td>...</td>\n",
       "      <td>0</td>\n",
       "      <td>0</td>\n",
       "      <td>0</td>\n",
       "      <td>1</td>\n",
       "      <td>0</td>\n",
       "      <td>0</td>\n",
       "      <td>1</td>\n",
       "      <td>0</td>\n",
       "      <td>0</td>\n",
       "      <td>443.4228</td>\n",
       "    </tr>\n",
       "    <tr>\n",
       "      <th>2</th>\n",
       "      <td>FDN15</td>\n",
       "      <td>17.500</td>\n",
       "      <td>1</td>\n",
       "      <td>0</td>\n",
       "      <td>0.016760</td>\n",
       "      <td>0</td>\n",
       "      <td>0</td>\n",
       "      <td>1</td>\n",
       "      <td>0</td>\n",
       "      <td>0</td>\n",
       "      <td>...</td>\n",
       "      <td>0</td>\n",
       "      <td>0</td>\n",
       "      <td>1</td>\n",
       "      <td>0</td>\n",
       "      <td>0</td>\n",
       "      <td>1</td>\n",
       "      <td>0</td>\n",
       "      <td>0</td>\n",
       "      <td>0</td>\n",
       "      <td>2097.2700</td>\n",
       "    </tr>\n",
       "    <tr>\n",
       "      <th>3</th>\n",
       "      <td>FDX07</td>\n",
       "      <td>19.200</td>\n",
       "      <td>0</td>\n",
       "      <td>1</td>\n",
       "      <td>0.000000</td>\n",
       "      <td>0</td>\n",
       "      <td>0</td>\n",
       "      <td>0</td>\n",
       "      <td>1</td>\n",
       "      <td>0</td>\n",
       "      <td>...</td>\n",
       "      <td>1</td>\n",
       "      <td>0</td>\n",
       "      <td>0</td>\n",
       "      <td>1</td>\n",
       "      <td>0</td>\n",
       "      <td>0</td>\n",
       "      <td>0</td>\n",
       "      <td>1</td>\n",
       "      <td>0</td>\n",
       "      <td>732.3800</td>\n",
       "    </tr>\n",
       "    <tr>\n",
       "      <th>4</th>\n",
       "      <td>NCD19</td>\n",
       "      <td>8.930</td>\n",
       "      <td>1</td>\n",
       "      <td>0</td>\n",
       "      <td>0.000000</td>\n",
       "      <td>0</td>\n",
       "      <td>0</td>\n",
       "      <td>0</td>\n",
       "      <td>0</td>\n",
       "      <td>1</td>\n",
       "      <td>...</td>\n",
       "      <td>0</td>\n",
       "      <td>1</td>\n",
       "      <td>0</td>\n",
       "      <td>1</td>\n",
       "      <td>0</td>\n",
       "      <td>1</td>\n",
       "      <td>0</td>\n",
       "      <td>0</td>\n",
       "      <td>0</td>\n",
       "      <td>994.7052</td>\n",
       "    </tr>\n",
       "    <tr>\n",
       "      <th>...</th>\n",
       "      <td>...</td>\n",
       "      <td>...</td>\n",
       "      <td>...</td>\n",
       "      <td>...</td>\n",
       "      <td>...</td>\n",
       "      <td>...</td>\n",
       "      <td>...</td>\n",
       "      <td>...</td>\n",
       "      <td>...</td>\n",
       "      <td>...</td>\n",
       "      <td>...</td>\n",
       "      <td>...</td>\n",
       "      <td>...</td>\n",
       "      <td>...</td>\n",
       "      <td>...</td>\n",
       "      <td>...</td>\n",
       "      <td>...</td>\n",
       "      <td>...</td>\n",
       "      <td>...</td>\n",
       "      <td>...</td>\n",
       "      <td>...</td>\n",
       "    </tr>\n",
       "    <tr>\n",
       "      <th>8518</th>\n",
       "      <td>FDF22</td>\n",
       "      <td>6.865</td>\n",
       "      <td>1</td>\n",
       "      <td>0</td>\n",
       "      <td>0.056783</td>\n",
       "      <td>0</td>\n",
       "      <td>0</td>\n",
       "      <td>0</td>\n",
       "      <td>0</td>\n",
       "      <td>0</td>\n",
       "      <td>...</td>\n",
       "      <td>0</td>\n",
       "      <td>1</td>\n",
       "      <td>0</td>\n",
       "      <td>1</td>\n",
       "      <td>0</td>\n",
       "      <td>1</td>\n",
       "      <td>0</td>\n",
       "      <td>0</td>\n",
       "      <td>0</td>\n",
       "      <td>2778.3834</td>\n",
       "    </tr>\n",
       "    <tr>\n",
       "      <th>8519</th>\n",
       "      <td>FDS36</td>\n",
       "      <td>8.380</td>\n",
       "      <td>0</td>\n",
       "      <td>1</td>\n",
       "      <td>0.046982</td>\n",
       "      <td>0</td>\n",
       "      <td>0</td>\n",
       "      <td>0</td>\n",
       "      <td>0</td>\n",
       "      <td>0</td>\n",
       "      <td>...</td>\n",
       "      <td>0</td>\n",
       "      <td>0</td>\n",
       "      <td>0</td>\n",
       "      <td>0</td>\n",
       "      <td>1</td>\n",
       "      <td>1</td>\n",
       "      <td>0</td>\n",
       "      <td>0</td>\n",
       "      <td>0</td>\n",
       "      <td>549.2850</td>\n",
       "    </tr>\n",
       "    <tr>\n",
       "      <th>8520</th>\n",
       "      <td>NCJ29</td>\n",
       "      <td>10.600</td>\n",
       "      <td>1</td>\n",
       "      <td>0</td>\n",
       "      <td>0.035186</td>\n",
       "      <td>0</td>\n",
       "      <td>0</td>\n",
       "      <td>0</td>\n",
       "      <td>0</td>\n",
       "      <td>0</td>\n",
       "      <td>...</td>\n",
       "      <td>1</td>\n",
       "      <td>0</td>\n",
       "      <td>0</td>\n",
       "      <td>0</td>\n",
       "      <td>1</td>\n",
       "      <td>1</td>\n",
       "      <td>0</td>\n",
       "      <td>0</td>\n",
       "      <td>0</td>\n",
       "      <td>1193.1136</td>\n",
       "    </tr>\n",
       "    <tr>\n",
       "      <th>8521</th>\n",
       "      <td>FDN46</td>\n",
       "      <td>7.210</td>\n",
       "      <td>0</td>\n",
       "      <td>1</td>\n",
       "      <td>0.145221</td>\n",
       "      <td>0</td>\n",
       "      <td>0</td>\n",
       "      <td>0</td>\n",
       "      <td>0</td>\n",
       "      <td>0</td>\n",
       "      <td>...</td>\n",
       "      <td>0</td>\n",
       "      <td>0</td>\n",
       "      <td>0</td>\n",
       "      <td>1</td>\n",
       "      <td>0</td>\n",
       "      <td>0</td>\n",
       "      <td>1</td>\n",
       "      <td>0</td>\n",
       "      <td>0</td>\n",
       "      <td>1845.5976</td>\n",
       "    </tr>\n",
       "    <tr>\n",
       "      <th>8522</th>\n",
       "      <td>DRG01</td>\n",
       "      <td>14.800</td>\n",
       "      <td>1</td>\n",
       "      <td>0</td>\n",
       "      <td>0.044878</td>\n",
       "      <td>0</td>\n",
       "      <td>1</td>\n",
       "      <td>0</td>\n",
       "      <td>0</td>\n",
       "      <td>0</td>\n",
       "      <td>...</td>\n",
       "      <td>1</td>\n",
       "      <td>0</td>\n",
       "      <td>1</td>\n",
       "      <td>0</td>\n",
       "      <td>0</td>\n",
       "      <td>1</td>\n",
       "      <td>0</td>\n",
       "      <td>0</td>\n",
       "      <td>0</td>\n",
       "      <td>765.6700</td>\n",
       "    </tr>\n",
       "  </tbody>\n",
       "</table>\n",
       "<p>8523 rows × 44 columns</p>\n",
       "</div>"
      ],
      "text/plain": [
       "     Item_Identifier  Item_Weight  Item_Fat_Content_Low Fat  \\\n",
       "0              FDA15        9.300                         1   \n",
       "1              DRC01        5.920                         0   \n",
       "2              FDN15       17.500                         1   \n",
       "3              FDX07       19.200                         0   \n",
       "4              NCD19        8.930                         1   \n",
       "...              ...          ...                       ...   \n",
       "8518           FDF22        6.865                         1   \n",
       "8519           FDS36        8.380                         0   \n",
       "8520           NCJ29       10.600                         1   \n",
       "8521           FDN46        7.210                         0   \n",
       "8522           DRG01       14.800                         1   \n",
       "\n",
       "      Item_Fat_Content_Regular  Item_Visibility  Item_Type_Dairy  \\\n",
       "0                            0         0.016047                1   \n",
       "1                            1         0.019278                0   \n",
       "2                            0         0.016760                0   \n",
       "3                            1         0.000000                0   \n",
       "4                            0         0.000000                0   \n",
       "...                        ...              ...              ...   \n",
       "8518                         0         0.056783                0   \n",
       "8519                         1         0.046982                0   \n",
       "8520                         0         0.035186                0   \n",
       "8521                         1         0.145221                0   \n",
       "8522                         0         0.044878                0   \n",
       "\n",
       "      Item_Type_Soft Drinks  Item_Type_Meat  Item_Type_Fruits and Vegetables  \\\n",
       "0                         0               0                                0   \n",
       "1                         1               0                                0   \n",
       "2                         0               1                                0   \n",
       "3                         0               0                                1   \n",
       "4                         0               0                                0   \n",
       "...                     ...             ...                              ...   \n",
       "8518                      0               0                                0   \n",
       "8519                      0               0                                0   \n",
       "8520                      0               0                                0   \n",
       "8521                      0               0                                0   \n",
       "8522                      1               0                                0   \n",
       "\n",
       "      Item_Type_Household  ...  Outlet_Size_Small  Outlet_Size_High  \\\n",
       "0                       0  ...                  0                 0   \n",
       "1                       0  ...                  0                 0   \n",
       "2                       0  ...                  0                 0   \n",
       "3                       0  ...                  1                 0   \n",
       "4                       1  ...                  0                 1   \n",
       "...                   ...  ...                ...               ...   \n",
       "8518                    0  ...                  0                 1   \n",
       "8519                    0  ...                  0                 0   \n",
       "8520                    0  ...                  1                 0   \n",
       "8521                    0  ...                  0                 0   \n",
       "8522                    0  ...                  1                 0   \n",
       "\n",
       "      Outlet_Location_Type_1.0  Outlet_Location_Type_3.0  \\\n",
       "0                            1                         0   \n",
       "1                            0                         1   \n",
       "2                            1                         0   \n",
       "3                            0                         1   \n",
       "4                            0                         1   \n",
       "...                        ...                       ...   \n",
       "8518                         0                         1   \n",
       "8519                         0                         0   \n",
       "8520                         0                         0   \n",
       "8521                         0                         1   \n",
       "8522                         1                         0   \n",
       "\n",
       "      Outlet_Location_Type_2.0  Outlet_Type_Supermarket Type1  \\\n",
       "0                            0                              1   \n",
       "1                            0                              0   \n",
       "2                            0                              1   \n",
       "3                            0                              0   \n",
       "4                            0                              1   \n",
       "...                        ...                            ...   \n",
       "8518                         0                              1   \n",
       "8519                         1                              1   \n",
       "8520                         1                              1   \n",
       "8521                         0                              0   \n",
       "8522                         0                              1   \n",
       "\n",
       "      Outlet_Type_Supermarket Type2  Outlet_Type_Grocery Store  \\\n",
       "0                                 0                          0   \n",
       "1                                 1                          0   \n",
       "2                                 0                          0   \n",
       "3                                 0                          1   \n",
       "4                                 0                          0   \n",
       "...                             ...                        ...   \n",
       "8518                              0                          0   \n",
       "8519                              0                          0   \n",
       "8520                              0                          0   \n",
       "8521                              1                          0   \n",
       "8522                              0                          0   \n",
       "\n",
       "      Outlet_Type_Supermarket Type3  Item_Outlet_Sales  \n",
       "0                                 0          3735.1380  \n",
       "1                                 0           443.4228  \n",
       "2                                 0          2097.2700  \n",
       "3                                 0           732.3800  \n",
       "4                                 0           994.7052  \n",
       "...                             ...                ...  \n",
       "8518                              0          2778.3834  \n",
       "8519                              0           549.2850  \n",
       "8520                              0          1193.1136  \n",
       "8521                              0          1845.5976  \n",
       "8522                              0           765.6700  \n",
       "\n",
       "[8523 rows x 44 columns]"
      ]
     },
     "execution_count": 9,
     "metadata": {},
     "output_type": "execute_result"
    }
   ],
   "source": [
    "# general information about the data\n",
    "data.isna().sum()\n",
    "data.describe()\n",
    "data\n",
    "\n"
   ]
  },
  {
   "cell_type": "markdown",
   "metadata": {},
   "source": [
    "### Standarise numeric variables "
   ]
  },
  {
   "cell_type": "code",
   "execution_count": 10,
   "metadata": {},
   "outputs": [],
   "source": [
    "# create the StandardScaler \n",
    "scaler = StandardScaler()\n",
    "# fit the Item_MRP and Weigh, and visibility \n",
    "num_cols = ['Item_Weight','Item_Visibility','Item_MRP']\n",
    "# fit the Item_MRP and Weight and visibility\n",
    "data[num_cols] = scaler.fit_transform(data[num_cols])\n"
   ]
  },
  {
   "cell_type": "markdown",
   "metadata": {},
   "source": [
    "### Split data to train and test "
   ]
  },
  {
   "cell_type": "code",
   "execution_count": 11,
   "metadata": {},
   "outputs": [
    {
     "data": {
      "text/plain": [
       "((6818, 42), (1705, 42), (6818,), (1705,), (8523, 42))"
      ]
     },
     "execution_count": 11,
     "metadata": {},
     "output_type": "execute_result"
    }
   ],
   "source": [
    "# separate the predictors and target variable \n",
    "train_X = data.drop(columns=['Item_Identifier','Item_Outlet_Sales'])\n",
    "train_Y = data['Item_Outlet_Sales']\n",
    "\n",
    "# randomly split the data\n",
    "train_x, test_x, train_y, test_y = train_test_split(train_X, train_Y,test_size=0.2,random_state=0)\n",
    "\n",
    "# shape of train and test splits\n",
    "train_x.shape, test_x.shape, train_y.shape, test_y.shape, train_X.shape"
   ]
  },
  {
   "cell_type": "markdown",
   "metadata": {},
   "source": [
    "## Baseline model"
   ]
  },
  {
   "cell_type": "code",
   "execution_count": 12,
   "metadata": {},
   "outputs": [
    {
     "name": "stdout",
     "output_type": "stream",
     "text": [
      "RMSE on train data:  1268501.1273168284\n",
      "RMSE on test data:  1281083.8531990782\n",
      "MAE on train data:  831.8945961956186\n",
      "MAE on test data:  852.5904245329575\n",
      "r2_score on train data:  0.5637902413353284\n",
      "r2_score on test data:  0.5623008641722387\n"
     ]
    },
    {
     "data": {
      "text/plain": [
       "<matplotlib.collections.PathCollection at 0x21ac25a4310>"
      ]
     },
     "execution_count": 12,
     "metadata": {},
     "output_type": "execute_result"
    },
    {
     "data": {
      "image/png": "[encoded data removed]",
      "text/plain": [
       "<Figure size 1296x432 with 2 Axes>"
      ]
     },
     "metadata": {
      "needs_background": "light"
     },
     "output_type": "display_data"
    }
   ],
   "source": [
    "# create an object of the LinearRegression Model\n",
    "model_LR = linear_model.LinearRegression(fit_intercept=False)\n",
    "\n",
    "# fit the model with the training data\n",
    "model_LR.fit(train_x, train_y)\n",
    "\n",
    "# predict the target on train and test data \n",
    "predict_train = model_LR.predict(train_x)\n",
    "predict_test  = model_LR.predict(test_x)\n",
    "\n",
    "print('RMSE on train data: ', mean_squared_error(train_y, predict_train))\n",
    "print('RMSE on test data: ',  mean_squared_error(test_y, predict_test))\n",
    "print('MAE on train data: ', mean_absolute_error(train_y, predict_train))\n",
    "print('MAE on test data: ',  mean_absolute_error(test_y, predict_test))\n",
    "print('r2_score on train data: ', r2_score(train_y, predict_train))\n",
    "print('r2_score on test data: ',  r2_score(test_y, predict_test))\n",
    "plt.figure(figsize=(18,6))\n",
    "plt.subplot(1, 2, 1)\n",
    "plt.scatter(train_y,predict_train)\n",
    "# plt.title( 'Link function ' + str(i) + '(Train data)')\n",
    "plt.subplot(1, 2, 2)\n",
    "plt.scatter(test_y,predict_test)\n",
    "# plt.title( 'Link function ' + str(i) + '(Test data)')"
   ]
  },
  {
   "cell_type": "code",
   "execution_count": 13,
   "metadata": {},
   "outputs": [
    {
     "data": {
      "text/html": [
       "<div>\n",
       "<style scoped>\n",
       "    .dataframe tbody tr th:only-of-type {\n",
       "        vertical-align: middle;\n",
       "    }\n",
       "\n",
       "    .dataframe tbody tr th {\n",
       "        vertical-align: top;\n",
       "    }\n",
       "\n",
       "    .dataframe thead th {\n",
       "        text-align: right;\n",
       "    }\n",
       "</style>\n",
       "<table border=\"1\" class=\"dataframe\">\n",
       "  <thead>\n",
       "    <tr style=\"text-align: right;\">\n",
       "      <th></th>\n",
       "      <th>featurename</th>\n",
       "      <th>featurecoef</th>\n",
       "    </tr>\n",
       "  </thead>\n",
       "  <tbody>\n",
       "    <tr>\n",
       "      <th>0</th>\n",
       "      <td>Item_Weight</td>\n",
       "      <td>-6.887401e+00</td>\n",
       "    </tr>\n",
       "    <tr>\n",
       "      <th>1</th>\n",
       "      <td>Item_Fat_Content_Low Fat</td>\n",
       "      <td>1.624083e+12</td>\n",
       "    </tr>\n",
       "    <tr>\n",
       "      <th>2</th>\n",
       "      <td>Item_Fat_Content_Regular</td>\n",
       "      <td>1.624083e+12</td>\n",
       "    </tr>\n",
       "    <tr>\n",
       "      <th>3</th>\n",
       "      <td>Item_Visibility</td>\n",
       "      <td>-1.895833e+01</td>\n",
       "    </tr>\n",
       "    <tr>\n",
       "      <th>4</th>\n",
       "      <td>Item_Type_Dairy</td>\n",
       "      <td>1.820087e+08</td>\n",
       "    </tr>\n",
       "    <tr>\n",
       "      <th>5</th>\n",
       "      <td>Item_Type_Soft Drinks</td>\n",
       "      <td>1.820087e+08</td>\n",
       "    </tr>\n",
       "    <tr>\n",
       "      <th>6</th>\n",
       "      <td>Item_Type_Meat</td>\n",
       "      <td>1.820087e+08</td>\n",
       "    </tr>\n",
       "    <tr>\n",
       "      <th>7</th>\n",
       "      <td>Item_Type_Fruits and Vegetables</td>\n",
       "      <td>1.820088e+08</td>\n",
       "    </tr>\n",
       "    <tr>\n",
       "      <th>8</th>\n",
       "      <td>Item_Type_Household</td>\n",
       "      <td>1.820087e+08</td>\n",
       "    </tr>\n",
       "    <tr>\n",
       "      <th>9</th>\n",
       "      <td>Item_Type_Baking Goods</td>\n",
       "      <td>1.820088e+08</td>\n",
       "    </tr>\n",
       "    <tr>\n",
       "      <th>10</th>\n",
       "      <td>Item_Type_Snack Foods</td>\n",
       "      <td>1.820087e+08</td>\n",
       "    </tr>\n",
       "    <tr>\n",
       "      <th>11</th>\n",
       "      <td>Item_Type_Frozen Foods</td>\n",
       "      <td>1.820087e+08</td>\n",
       "    </tr>\n",
       "    <tr>\n",
       "      <th>12</th>\n",
       "      <td>Item_Type_Breakfast</td>\n",
       "      <td>1.820088e+08</td>\n",
       "    </tr>\n",
       "    <tr>\n",
       "      <th>13</th>\n",
       "      <td>Item_Type_Health and Hygiene</td>\n",
       "      <td>1.820087e+08</td>\n",
       "    </tr>\n",
       "    <tr>\n",
       "      <th>14</th>\n",
       "      <td>Item_Type_Hard Drinks</td>\n",
       "      <td>1.820088e+08</td>\n",
       "    </tr>\n",
       "    <tr>\n",
       "      <th>15</th>\n",
       "      <td>Item_Type_Canned</td>\n",
       "      <td>1.820088e+08</td>\n",
       "    </tr>\n",
       "    <tr>\n",
       "      <th>16</th>\n",
       "      <td>Item_Type_Breads</td>\n",
       "      <td>1.820087e+08</td>\n",
       "    </tr>\n",
       "    <tr>\n",
       "      <th>17</th>\n",
       "      <td>Item_Type_Starchy Foods</td>\n",
       "      <td>1.820088e+08</td>\n",
       "    </tr>\n",
       "    <tr>\n",
       "      <th>18</th>\n",
       "      <td>Item_Type_Others</td>\n",
       "      <td>1.820087e+08</td>\n",
       "    </tr>\n",
       "    <tr>\n",
       "      <th>19</th>\n",
       "      <td>Item_Type_Seafood</td>\n",
       "      <td>1.820090e+08</td>\n",
       "    </tr>\n",
       "    <tr>\n",
       "      <th>20</th>\n",
       "      <td>Item_MRP</td>\n",
       "      <td>9.679787e+02</td>\n",
       "    </tr>\n",
       "    <tr>\n",
       "      <th>21</th>\n",
       "      <td>Outlet_Identifier_OUT049</td>\n",
       "      <td>1.918467e+09</td>\n",
       "    </tr>\n",
       "    <tr>\n",
       "      <th>22</th>\n",
       "      <td>Outlet_Identifier_OUT018</td>\n",
       "      <td>4.895569e+09</td>\n",
       "    </tr>\n",
       "    <tr>\n",
       "      <th>23</th>\n",
       "      <td>Outlet_Identifier_OUT010</td>\n",
       "      <td>3.801259e+09</td>\n",
       "    </tr>\n",
       "    <tr>\n",
       "      <th>24</th>\n",
       "      <td>Outlet_Identifier_OUT013</td>\n",
       "      <td>-3.745850e+09</td>\n",
       "    </tr>\n",
       "    <tr>\n",
       "      <th>25</th>\n",
       "      <td>Outlet_Identifier_OUT027</td>\n",
       "      <td>-4.915539e+09</td>\n",
       "    </tr>\n",
       "    <tr>\n",
       "      <th>26</th>\n",
       "      <td>Outlet_Identifier_OUT045</td>\n",
       "      <td>-1.297094e+09</td>\n",
       "    </tr>\n",
       "    <tr>\n",
       "      <th>27</th>\n",
       "      <td>Outlet_Identifier_OUT017</td>\n",
       "      <td>2.770638e+09</td>\n",
       "    </tr>\n",
       "    <tr>\n",
       "      <th>28</th>\n",
       "      <td>Outlet_Identifier_OUT046</td>\n",
       "      <td>1.445999e+09</td>\n",
       "    </tr>\n",
       "    <tr>\n",
       "      <th>29</th>\n",
       "      <td>Outlet_Identifier_OUT035</td>\n",
       "      <td>1.484624e+09</td>\n",
       "    </tr>\n",
       "    <tr>\n",
       "      <th>30</th>\n",
       "      <td>Outlet_Identifier_OUT019</td>\n",
       "      <td>-5.271551e+09</td>\n",
       "    </tr>\n",
       "    <tr>\n",
       "      <th>31</th>\n",
       "      <td>Outlet_Establishment_Year</td>\n",
       "      <td>-8.135463e+08</td>\n",
       "    </tr>\n",
       "    <tr>\n",
       "      <th>32</th>\n",
       "      <td>Outlet_Size_Medium</td>\n",
       "      <td>1.828841e+09</td>\n",
       "    </tr>\n",
       "    <tr>\n",
       "      <th>33</th>\n",
       "      <td>Outlet_Size_Small</td>\n",
       "      <td>6.742159e+08</td>\n",
       "    </tr>\n",
       "    <tr>\n",
       "      <th>34</th>\n",
       "      <td>Outlet_Size_High</td>\n",
       "      <td>-3.772691e+09</td>\n",
       "    </tr>\n",
       "    <tr>\n",
       "      <th>35</th>\n",
       "      <td>Outlet_Location_Type_1.0</td>\n",
       "      <td>-2.898892e+09</td>\n",
       "    </tr>\n",
       "    <tr>\n",
       "      <th>36</th>\n",
       "      <td>Outlet_Location_Type_3.0</td>\n",
       "      <td>-1.395599e+09</td>\n",
       "    </tr>\n",
       "    <tr>\n",
       "      <th>37</th>\n",
       "      <td>Outlet_Location_Type_2.0</td>\n",
       "      <td>2.757308e+09</td>\n",
       "    </tr>\n",
       "    <tr>\n",
       "      <th>38</th>\n",
       "      <td>Outlet_Type_Supermarket Type1</td>\n",
       "      <td>1.166079e+09</td>\n",
       "    </tr>\n",
       "    <tr>\n",
       "      <th>39</th>\n",
       "      <td>Outlet_Type_Supermarket Type2</td>\n",
       "      <td>4.821147e+09</td>\n",
       "    </tr>\n",
       "    <tr>\n",
       "      <th>40</th>\n",
       "      <td>Outlet_Type_Grocery Store</td>\n",
       "      <td>-1.878929e+09</td>\n",
       "    </tr>\n",
       "    <tr>\n",
       "      <th>41</th>\n",
       "      <td>Outlet_Type_Supermarket Type3</td>\n",
       "      <td>-4.892855e+09</td>\n",
       "    </tr>\n",
       "  </tbody>\n",
       "</table>\n",
       "</div>"
      ],
      "text/plain": [
       "                        featurename   featurecoef\n",
       "0                       Item_Weight -6.887401e+00\n",
       "1          Item_Fat_Content_Low Fat  1.624083e+12\n",
       "2          Item_Fat_Content_Regular  1.624083e+12\n",
       "3                   Item_Visibility -1.895833e+01\n",
       "4                   Item_Type_Dairy  1.820087e+08\n",
       "5             Item_Type_Soft Drinks  1.820087e+08\n",
       "6                    Item_Type_Meat  1.820087e+08\n",
       "7   Item_Type_Fruits and Vegetables  1.820088e+08\n",
       "8               Item_Type_Household  1.820087e+08\n",
       "9            Item_Type_Baking Goods  1.820088e+08\n",
       "10            Item_Type_Snack Foods  1.820087e+08\n",
       "11           Item_Type_Frozen Foods  1.820087e+08\n",
       "12              Item_Type_Breakfast  1.820088e+08\n",
       "13     Item_Type_Health and Hygiene  1.820087e+08\n",
       "14            Item_Type_Hard Drinks  1.820088e+08\n",
       "15                 Item_Type_Canned  1.820088e+08\n",
       "16                 Item_Type_Breads  1.820087e+08\n",
       "17          Item_Type_Starchy Foods  1.820088e+08\n",
       "18                 Item_Type_Others  1.820087e+08\n",
       "19                Item_Type_Seafood  1.820090e+08\n",
       "20                         Item_MRP  9.679787e+02\n",
       "21         Outlet_Identifier_OUT049  1.918467e+09\n",
       "22         Outlet_Identifier_OUT018  4.895569e+09\n",
       "23         Outlet_Identifier_OUT010  3.801259e+09\n",
       "24         Outlet_Identifier_OUT013 -3.745850e+09\n",
       "25         Outlet_Identifier_OUT027 -4.915539e+09\n",
       "26         Outlet_Identifier_OUT045 -1.297094e+09\n",
       "27         Outlet_Identifier_OUT017  2.770638e+09\n",
       "28         Outlet_Identifier_OUT046  1.445999e+09\n",
       "29         Outlet_Identifier_OUT035  1.484624e+09\n",
       "30         Outlet_Identifier_OUT019 -5.271551e+09\n",
       "31        Outlet_Establishment_Year -8.135463e+08\n",
       "32               Outlet_Size_Medium  1.828841e+09\n",
       "33                Outlet_Size_Small  6.742159e+08\n",
       "34                 Outlet_Size_High -3.772691e+09\n",
       "35         Outlet_Location_Type_1.0 -2.898892e+09\n",
       "36         Outlet_Location_Type_3.0 -1.395599e+09\n",
       "37         Outlet_Location_Type_2.0  2.757308e+09\n",
       "38    Outlet_Type_Supermarket Type1  1.166079e+09\n",
       "39    Outlet_Type_Supermarket Type2  4.821147e+09\n",
       "40        Outlet_Type_Grocery Store -1.878929e+09\n",
       "41    Outlet_Type_Supermarket Type3 -4.892855e+09"
      ]
     },
     "execution_count": 13,
     "metadata": {},
     "output_type": "execute_result"
    }
   ],
   "source": [
    "## Extract feature coefs\n",
    "d = {'featurename':model_LR.feature_names_in_, \n",
    "     'featurecoef':model_LR.coef_}\n",
    "# coef = pd.Series(model_LR.coef_, model_LR.feature_names_in_, name = 'value').sort_values()\n",
    "\n",
    "pd.DataFrame(d)\n"
   ]
  },
  {
   "cell_type": "code",
   "execution_count": 14,
   "metadata": {},
   "outputs": [],
   "source": [
    "## Output evaluation results \n",
    "pd.DataFrame({'obs':test_y, 'pred':predict_test}).to_csv('Data/lmtestrs.csv', index = False)"
   ]
  },
  {
   "cell_type": "markdown",
   "metadata": {},
   "source": [
    "### Try a random forest"
   ]
  },
  {
   "cell_type": "code",
   "execution_count": 15,
   "metadata": {},
   "outputs": [
    {
     "name": "stdout",
     "output_type": "stream",
     "text": [
      "RMSE on train data:  818508.3976953824\n",
      "RMSE on test data:  1207762.731408464\n",
      "MAE on train data:  634.6799426966129\n",
      "MAE on test data:  781.2362832414467\n",
      "r2_score on train data:  0.7185328866211302\n",
      "r2_score on test data:  0.5873519890970696\n"
     ]
    }
   ],
   "source": [
    "# create an object of the RandomForestRegressor\n",
    "model_RFR = RandomForestRegressor(max_depth=10)\n",
    "\n",
    "# fit the model with the training data\n",
    "model_RFR.fit(train_x, train_y)\n",
    "\n",
    "# predict the target on train and test data\n",
    "predict_train = model_RFR.predict(train_x)\n",
    "predict_test = model_RFR.predict(test_x)\n",
    "\n",
    "print('RMSE on train data: ', mean_squared_error(train_y, predict_train))\n",
    "print('RMSE on test data: ',  mean_squared_error(test_y, predict_test))\n",
    "print('MAE on train data: ', mean_absolute_error(train_y, predict_train))\n",
    "print('MAE on test data: ',  mean_absolute_error(test_y, predict_test))\n",
    "print('r2_score on train data: ', r2_score(train_y, predict_train))\n",
    "print('r2_score on test data: ',  r2_score(test_y, predict_test))"
   ]
  },
  {
   "cell_type": "markdown",
   "metadata": {},
   "source": [
    "# RF is better than LR so far. But overfitting "
   ]
  },
  {
   "cell_type": "markdown",
   "metadata": {},
   "source": [
    "# Try a lasso regression to drop some features?"
   ]
  },
  {
   "cell_type": "code",
   "execution_count": 16,
   "metadata": {},
   "outputs": [
    {
     "data": {
      "text/plain": [
       "Lasso(alpha=100, fit_intercept=False, positive=True)"
      ]
     },
     "execution_count": 16,
     "metadata": {},
     "output_type": "execute_result"
    }
   ],
   "source": [
    "from sklearn import linear_model\n",
    "regressor = linear_model.Lasso(alpha=100,  \n",
    "                               positive=True,\n",
    "                               fit_intercept=False, \n",
    "                               max_iter=1000,\n",
    "                               tol=0.0001)\n",
    "regressor.fit(train_x, train_y)"
   ]
  },
  {
   "cell_type": "code",
   "execution_count": 17,
   "metadata": {},
   "outputs": [
    {
     "data": {
      "text/html": [
       "\n",
       "    <style>\n",
       "    table.eli5-weights tr:hover {\n",
       "        filter: brightness(85%);\n",
       "    }\n",
       "</style>\n",
       "\n",
       "\n",
       "\n",
       "    \n",
       "\n",
       "    \n",
       "\n",
       "    \n",
       "\n",
       "    \n",
       "\n",
       "    \n",
       "\n",
       "    \n",
       "\n",
       "\n",
       "    \n",
       "\n",
       "    \n",
       "\n",
       "    \n",
       "\n",
       "    \n",
       "        \n",
       "\n",
       "    \n",
       "\n",
       "        \n",
       "            \n",
       "                \n",
       "                \n",
       "    \n",
       "        <p style=\"margin-bottom: 0.5em; margin-top: 0em\">\n",
       "            <b>\n",
       "    \n",
       "        y\n",
       "    \n",
       "</b>\n",
       "\n",
       "top features\n",
       "        </p>\n",
       "    \n",
       "    <table class=\"eli5-weights\"\n",
       "           style=\"border-collapse: collapse; border: none; margin-top: 0em; table-layout: auto; margin-bottom: 2em;\">\n",
       "        <thead>\n",
       "        <tr style=\"border: none;\">\n",
       "            \n",
       "                <th style=\"padding: 0 1em 0 0.5em; text-align: right; border: none;\" title=\"Feature weights. Note that weights do not account for feature value scales, so if feature values have different scales, features with highest weights might not be the most important.\">\n",
       "                    Weight<sup>?</sup>\n",
       "                </th>\n",
       "            \n",
       "            <th style=\"padding: 0 0.5em 0 0.5em; text-align: left; border: none;\">Feature</th>\n",
       "            \n",
       "        </tr>\n",
       "        </thead>\n",
       "        <tbody>\n",
       "        \n",
       "            <tr style=\"background-color: hsl(120, 100.00%, 80.00%); border: none;\">\n",
       "    <td style=\"padding: 0 1em 0 0.5em; text-align: right; border: none;\">\n",
       "        +869.526\n",
       "    </td>\n",
       "    <td style=\"padding: 0 0.5em 0 0.5em; text-align: left; border: none;\">\n",
       "        Item_MRP\n",
       "    </td>\n",
       "    \n",
       "</tr>\n",
       "        \n",
       "            <tr style=\"background-color: hsl(120, 100.00%, 82.49%); border: none;\">\n",
       "    <td style=\"padding: 0 1em 0 0.5em; text-align: right; border: none;\">\n",
       "        +719.257\n",
       "    </td>\n",
       "    <td style=\"padding: 0 0.5em 0 0.5em; text-align: left; border: none;\">\n",
       "        Outlet_Identifier_OUT027\n",
       "    </td>\n",
       "    \n",
       "</tr>\n",
       "        \n",
       "            <tr style=\"background-color: hsl(120, 100.00%, 92.08%); border: none;\">\n",
       "    <td style=\"padding: 0 1em 0 0.5em; text-align: right; border: none;\">\n",
       "        +231.660\n",
       "    </td>\n",
       "    <td style=\"padding: 0 0.5em 0 0.5em; text-align: left; border: none;\">\n",
       "        Outlet_Size_Medium\n",
       "    </td>\n",
       "    \n",
       "</tr>\n",
       "        \n",
       "            <tr style=\"background-color: hsl(120, 100.00%, 92.94%); border: none;\">\n",
       "    <td style=\"padding: 0 1em 0 0.5em; text-align: right; border: none;\">\n",
       "        +196.251\n",
       "    </td>\n",
       "    <td style=\"padding: 0 0.5em 0 0.5em; text-align: left; border: none;\">\n",
       "        Outlet_Type_Supermarket Type1\n",
       "    </td>\n",
       "    \n",
       "</tr>\n",
       "        \n",
       "            <tr style=\"background-color: hsl(120, 100.00%, 99.83%); border: none;\">\n",
       "    <td style=\"padding: 0 1em 0 0.5em; text-align: right; border: none;\">\n",
       "        +0.927\n",
       "    </td>\n",
       "    <td style=\"padding: 0 0.5em 0 0.5em; text-align: left; border: none;\">\n",
       "        Outlet_Establishment_Year\n",
       "    </td>\n",
       "    \n",
       "</tr>\n",
       "        \n",
       "        \n",
       "\n",
       "        \n",
       "        \n",
       "\n",
       "        </tbody>\n",
       "    </table>\n",
       "\n",
       "            \n",
       "        \n",
       "\n",
       "        \n",
       "\n",
       "\n",
       "\n",
       "    \n",
       "\n",
       "    \n",
       "\n",
       "    \n",
       "\n",
       "    \n",
       "\n",
       "\n",
       "    \n",
       "\n",
       "    \n",
       "\n",
       "    \n",
       "\n",
       "    \n",
       "\n",
       "    \n",
       "\n",
       "    \n",
       "\n",
       "\n",
       "    \n",
       "\n",
       "    \n",
       "\n",
       "    \n",
       "\n",
       "    \n",
       "\n",
       "    \n",
       "\n",
       "    \n",
       "\n",
       "\n",
       "\n"
      ],
      "text/plain": [
       "<IPython.core.display.HTML object>"
      ]
     },
     "execution_count": 17,
     "metadata": {},
     "output_type": "execute_result"
    }
   ],
   "source": [
    "import eli5\n",
    "eli5.show_weights(regressor, top=-1, feature_names = train_x.columns.tolist())\n"
   ]
  },
  {
   "cell_type": "code",
   "execution_count": 18,
   "metadata": {},
   "outputs": [
    {
     "data": {
      "text/html": [
       "<div>\n",
       "<style scoped>\n",
       "    .dataframe tbody tr th:only-of-type {\n",
       "        vertical-align: middle;\n",
       "    }\n",
       "\n",
       "    .dataframe tbody tr th {\n",
       "        vertical-align: top;\n",
       "    }\n",
       "\n",
       "    .dataframe thead th {\n",
       "        text-align: right;\n",
       "    }\n",
       "</style>\n",
       "<table border=\"1\" class=\"dataframe\">\n",
       "  <thead>\n",
       "    <tr style=\"text-align: right;\">\n",
       "      <th></th>\n",
       "      <th>name</th>\n",
       "      <th>coefs</th>\n",
       "    </tr>\n",
       "  </thead>\n",
       "  <tbody>\n",
       "    <tr>\n",
       "      <th>20</th>\n",
       "      <td>Item_MRP</td>\n",
       "      <td>869.525974</td>\n",
       "    </tr>\n",
       "    <tr>\n",
       "      <th>25</th>\n",
       "      <td>Outlet_Identifier_OUT027</td>\n",
       "      <td>719.257085</td>\n",
       "    </tr>\n",
       "    <tr>\n",
       "      <th>32</th>\n",
       "      <td>Outlet_Size_Medium</td>\n",
       "      <td>231.659946</td>\n",
       "    </tr>\n",
       "    <tr>\n",
       "      <th>38</th>\n",
       "      <td>Outlet_Type_Supermarket Type1</td>\n",
       "      <td>196.251073</td>\n",
       "    </tr>\n",
       "    <tr>\n",
       "      <th>31</th>\n",
       "      <td>Outlet_Establishment_Year</td>\n",
       "      <td>0.926931</td>\n",
       "    </tr>\n",
       "  </tbody>\n",
       "</table>\n",
       "</div>"
      ],
      "text/plain": [
       "                             name       coefs\n",
       "20                       Item_MRP  869.525974\n",
       "25       Outlet_Identifier_OUT027  719.257085\n",
       "32             Outlet_Size_Medium  231.659946\n",
       "38  Outlet_Type_Supermarket Type1  196.251073\n",
       "31      Outlet_Establishment_Year    0.926931"
      ]
     },
     "execution_count": 18,
     "metadata": {},
     "output_type": "execute_result"
    }
   ],
   "source": [
    "df_L1=pd.DataFrame({'name': regressor.feature_names_in_,\n",
    "              'coefs': regressor.coef_})\n",
    "df_L1[df_L1['coefs' ]> 0 ].sort_values(by='coefs', ascending=False)\n"
   ]
  },
  {
   "cell_type": "markdown",
   "metadata": {},
   "source": [
    "## Five features lead the way? \n",
    "Not sure if it's going to work"
   ]
  },
  {
   "cell_type": "code",
   "execution_count": 19,
   "metadata": {},
   "outputs": [
    {
     "data": {
      "text/plain": [
       "((6818, 5), (1705, 5), (6818,), (1705,))"
      ]
     },
     "execution_count": 19,
     "metadata": {},
     "output_type": "execute_result"
    }
   ],
   "source": [
    "# Respilt the data\n",
    "train_X = data.loc[:,df_L1[df_L1['coefs' ]> 0 ].name.tolist()]\n",
    "train_Y = data['Item_Outlet_Sales']\n",
    "\n",
    "# split the data\n",
    "train_x, test_x, train_y, test_y = train_test_split(train_X, train_Y,test_size=0.2,random_state=0)\n",
    "\n",
    "# shape of train and test splits\n",
    "train_x.shape, test_x.shape, train_y.shape, test_y.shape"
   ]
  },
  {
   "cell_type": "code",
   "execution_count": 20,
   "metadata": {},
   "outputs": [
    {
     "name": "stdout",
     "output_type": "stream",
     "text": [
      "RMSE on train data:  1360398.449408192\n",
      "RMSE on test data:  1396387.872375763\n",
      "MAE on train data:  873.373696711252\n",
      "MAE on test data:  904.2393191926279\n",
      "r2_score on train data:  0.5321887647357801\n",
      "r2_score on test data:  0.5229057305710506\n"
     ]
    }
   ],
   "source": [
    "# create the LinearRegression Model\n",
    "model_LR = linear_model.LinearRegression()\n",
    "\n",
    "# fit the model with the training data\n",
    "model_LR.fit(train_x, train_y)\n",
    "\n",
    "# predict the target on train and test data \n",
    "predict_train = model_LR.predict(train_x)\n",
    "predict_test  = model_LR.predict(test_x)\n",
    "\n",
    "# Root Mean Squared Error on train and test date\n",
    "print('RMSE on train data: ', mean_squared_error(train_y, predict_train))\n",
    "print('RMSE on test data: ',  mean_squared_error(test_y, predict_test))\n",
    "print('MAE on train data: ', mean_absolute_error(train_y, predict_train))\n",
    "print('MAE on test data: ',  mean_absolute_error(test_y, predict_test))\n",
    "print('r2_score on train data: ', r2_score(train_y, predict_train))\n",
    "print('r2_score on test data: ',  r2_score(test_y, predict_test))"
   ]
  },
  {
   "cell_type": "code",
   "execution_count": 21,
   "metadata": {},
   "outputs": [
    {
     "name": "stdout",
     "output_type": "stream",
     "text": [
      "RMSE on train data:  913.3033133757522\n",
      "RMSE on test data:  1125.178628612465\n",
      "MAE on train data:  643.3609593223156\n",
      "MAE on test data:  790.343852054082\n",
      "r2_score on train data:  0.7131633867023452\n",
      "r2_score on test data:  0.5674452543130843\n"
     ]
    }
   ],
   "source": [
    "# create the RandomForestRegressor\n",
    "model_RFR = RandomForestRegressor(max_depth=10)\n",
    "\n",
    "# fit the model with the training data\n",
    "model_RFR.fit(train_x, train_y)\n",
    "\n",
    "# predict the target on train and test data\n",
    "predict_train = model_RFR.predict(train_x)\n",
    "predict_test = model_RFR.predict(test_x)\n",
    "\n",
    "# Root Mean Squared Error on train and test data\n",
    "print('RMSE on train data: ', mean_squared_error(train_y, predict_train)**(0.5))\n",
    "print('RMSE on test data: ',  mean_squared_error(test_y, predict_test)**(0.5))\n",
    "print('MAE on train data: ', mean_absolute_error(train_y, predict_train))\n",
    "print('MAE on test data: ',  mean_absolute_error(test_y, predict_test))\n",
    "print('r2_score on train data: ', r2_score(train_y, predict_train))\n",
    "print('r2_score on test data: ',  r2_score(test_y, predict_test))"
   ]
  },
  {
   "cell_type": "markdown",
   "metadata": {},
   "source": [
    "### Not doing great\n",
    "Need a pipleline and see more models\n"
   ]
  },
  {
   "cell_type": "markdown",
   "metadata": {},
   "source": [
    "## Model selection "
   ]
  },
  {
   "cell_type": "markdown",
   "metadata": {},
   "source": [
    "### Prepara data "
   ]
  },
  {
   "cell_type": "code",
   "execution_count": 22,
   "metadata": {},
   "outputs": [
    {
     "name": "stdout",
     "output_type": "stream",
     "text": [
      "(6818, 42) (1705, 42) (6818,) (1705,)\n"
     ]
    }
   ],
   "source": [
    "# read the train data\n",
    "data = pd.read_csv('Data/cleaned.csv')\n",
    "Encoder = ce.OneHotEncoder(cols=['Item_Fat_Content',\n",
    "                                 'Item_Type',\n",
    "                                'Outlet_Identifier',\n",
    "                                'Outlet_Size',\n",
    "                                'Outlet_Location_Type',\n",
    "                                'Outlet_Type'],use_cat_names=True)\n",
    "# encode the categorical variables\n",
    "data = Encoder.fit_transform(data)\n",
    "num_cols = ['Item_Weight','Item_Visibility','Item_MRP']\n",
    "scaler = StandardScaler()\n",
    "# fit the Item_MRP and Weight\n",
    "data[num_cols] = scaler.fit_transform(data[num_cols])\n",
    "\n",
    "# define a fun to do col selections and split \n",
    "def split_traintest(df, dropvals, yvals = 'Item_Outlet_Sales'):\n",
    "\n",
    "    # separate the predictors and target variable \n",
    "    X = df.drop(columns=dropvals)\n",
    "    Y = data[yvals]\n",
    "\n",
    "    # randomly split the data\n",
    "    train_x, test_x, train_y, test_y = train_test_split(X, Y,test_size=0.2,random_state=42)\n",
    "    return train_x, test_x, train_y, test_y\n",
    "\n",
    "train_x, test_x, train_y, test_y = split_traintest(data, ['Item_Identifier','Item_Outlet_Sales'])\n",
    "# check shape of train and test splits\n",
    "print(train_x.shape, test_x.shape, train_y.shape, test_y.shape)\n",
    "\n",
    "## Full x and y\n",
    "X = data.drop(columns=['Item_Identifier','Item_Outlet_Sales'])\n",
    "Y = data['Item_Outlet_Sales']\n"
   ]
  },
  {
   "cell_type": "markdown",
   "metadata": {},
   "source": [
    "### Try six with 10 fold "
   ]
  },
  {
   "cell_type": "code",
   "execution_count": 23,
   "metadata": {},
   "outputs": [
    {
     "name": "stdout",
     "output_type": "stream",
     "text": [
      "LM 0.558527 0.021378 \n",
      "L1 0.559646 0.020985 \n",
      "L2 0.558526 0.021295 \n",
      "BayesRidge 0.558609 0.021226 \n"
     ]
    },
    {
     "name": "stderr",
     "output_type": "stream",
     "text": [
      "C:\\anaconda\\lib\\site-packages\\sklearn\\linear_model\\_glm\\link.py:90: RuntimeWarning: overflow encountered in exp\n",
      "  return np.exp(lin_pred)\n",
      "C:\\anaconda\\lib\\site-packages\\sklearn\\linear_model\\_glm\\link.py:93: RuntimeWarning: overflow encountered in exp\n",
      "  return np.exp(lin_pred)\n",
      "C:\\anaconda\\lib\\site-packages\\sklearn\\_loss\\glm_distribution.py:132: RuntimeWarning: overflow encountered in multiply\n",
      "  return -2 * (y - y_pred) / self.unit_variance(y_pred)\n",
      "C:\\anaconda\\lib\\site-packages\\sklearn\\linear_model\\_glm\\glm.py:42: RuntimeWarning: overflow encountered in multiply\n",
      "  temp = d1 * family.deviance_derivative(y, y_pred, weights)\n",
      "C:\\anaconda\\lib\\site-packages\\sklearn\\linear_model\\_glm\\glm.py:44: RuntimeWarning: invalid value encountered in matmul\n",
      "  devp = np.concatenate(([temp.sum()], temp @ X))\n",
      "C:\\anaconda\\lib\\site-packages\\sklearn\\_loss\\glm_distribution.py:316: RuntimeWarning: overflow encountered in square\n",
      "  dev = (y - y_pred) ** 2\n"
     ]
    },
    {
     "name": "stdout",
     "output_type": "stream",
     "text": [
      "GLM 0.580277 0.028974 \n",
      "RF 0.587207 0.030893 \n"
     ]
    }
   ],
   "source": [
    "# baselines\n",
    "num_folds = 10\n",
    "seed = 7\n",
    "\n",
    "models = []\n",
    "models.append(('LM', linear_model.LinearRegression()))\n",
    "models.append(('L1', linear_model.Lasso()))\n",
    "models.append(('L2', linear_model.Ridge()))\n",
    "models.append(('BayesRidge',linear_model.BayesianRidge()))\n",
    "models.append(('GLM',linear_model.TweedieRegressor(link='log',  max_iter=3000)))\n",
    "models.append(('RF', RandomForestRegressor(max_depth=10, random_state=0)))\n",
    "# build a pipeline\n",
    "results = []\n",
    "names = []\n",
    "# copied from  https://www.kaggle.com/richarde/easy-pipeline-and-model-selection#2.0-Process-the-Data\n",
    "for name, model in models:\n",
    "    kfold = KFold(n_splits=num_folds)\n",
    "    cv_results = cross_val_score(model, X, Y,  scoring = 'r2',cv=kfold)\n",
    "    results.append(cv_results)\n",
    "    names.append(name)\n",
    "    msg = \"%s %f %f \" % (name, cv_results.mean(), cv_results.std())\n",
    "    print(msg)"
   ]
  },
  {
   "cell_type": "markdown",
   "metadata": {},
   "source": [
    "### Visualisation "
   ]
  },
  {
   "cell_type": "code",
   "execution_count": 24,
   "metadata": {},
   "outputs": [
    {
     "data": {
      "image/png": "[encoded data removed]",
      "text/plain": [
       "<Figure size 432x288 with 1 Axes>"
      ]
     },
     "metadata": {
      "needs_background": "light"
     },
     "output_type": "display_data"
    },
    {
     "data": {
      "text/plain": [
       "<Figure size 432x288 with 0 Axes>"
      ]
     },
     "metadata": {},
     "output_type": "display_data"
    }
   ],
   "source": [
    "# compare algorithms\n",
    "fig = plt.figure()\n",
    "fig.suptitle('Comparison')\n",
    "ax = fig.add_subplot(111)\n",
    "plt.boxplot(results)\n",
    "ax.set_xticklabels(names)\n",
    "plt.show()\n",
    "plt.savefig('Reports/baselines.png', dpi = 300)"
   ]
  },
  {
   "cell_type": "code",
   "execution_count": 25,
   "metadata": {},
   "outputs": [],
   "source": [
    "## save output for visualisation in R\n",
    "rs_hold = [item for sublist in results for item in sublist]\n",
    "df = pd.DataFrame({'names' :np.repeat(['LM','L1','L2','BayeL2', 'GLM', 'RF'], 10),\n",
    "                   'r2':rs_hold})\n",
    "## output \n",
    "df.to_csv('Data/baselines.csv')"
   ]
  },
  {
   "cell_type": "markdown",
   "metadata": {},
   "source": [
    "## Hyperparameter tuning \n",
    "\n",
    "### GLM"
   ]
  },
  {
   "cell_type": "code",
   "execution_count": 26,
   "metadata": {},
   "outputs": [
    {
     "name": "stdout",
     "output_type": "stream",
     "text": [
      "r2_score on train data:  0.585784429693504\n",
      "r2_score on test data:  0.5964148441847508\n"
     ]
    },
    {
     "data": {
      "image/png": "[encoded data removed]",
      "text/plain": [
       "<Figure size 1296x432 with 3 Axes>"
      ]
     },
     "metadata": {
      "needs_background": "light"
     },
     "output_type": "display_data"
    }
   ],
   "source": [
    "# create an object of the RandomForestRegressor\n",
    "iterations = [5000]\n",
    "links = ['log']\n",
    "coefs = []\n",
    "results = []\n",
    "names = []\n",
    "for i in links:\n",
    "    model_glm = linear_model.TweedieRegressor( link=i,   max_iter=5000)\n",
    "    # fit the model with the training data\n",
    "    model_glm.fit(train_x, train_y)\n",
    "    # predict the target on train and test data\n",
    "    predict_train = model_glm.predict(train_x)\n",
    "    predict_test = model_glm.predict(test_x)  \n",
    "    # get the coef\n",
    "    coef = pd.Series(model_glm.coef_, model_glm.feature_names_in_, name = 'value').sort_values()\n",
    "    coefs.append(coef)    \n",
    "\n",
    "    print('r2_score on train data: ', r2_score(train_y, predict_train))\n",
    "    print('r2_score on test data: ',  r2_score(test_y, predict_test))    \n",
    "    plt.figure(figsize=(18,6))\n",
    "    plt.subplot(1, 3, 1)\n",
    "    plt.scatter(train_y,predict_train)\n",
    "    plt.title( 'Link function ' + str(i) + '(Train data)')\n",
    "    plt.subplot(1, 3, 2)\n",
    "    plt.scatter(test_y,predict_test)\n",
    "    plt.title( 'Link function ' + str(i) + '(Test data)')\n",
    "    plt.subplot(1, 3, 3)\n",
    "    coef[coef>0.1].plot(kind='bar', title='Model Coefficients')\n",
    "    \n",
    "    plt.show()\n",
    "\n",
    "## Save coefs \n",
    "pd.DataFrame(coefs).to_csv('Data/glm.csv', index = False)"
   ]
  },
  {
   "cell_type": "markdown",
   "metadata": {},
   "source": [
    "### RF"
   ]
  },
  {
   "cell_type": "code",
   "execution_count": 27,
   "metadata": {},
   "outputs": [],
   "source": [
    "# create an RandomForestRegressor\n",
    "param_grid = {'bootstrap': [True],\n",
    "              'max_depth': [5, 10, None], \n",
    "              'max_features': ['auto', 'log2'], \n",
    "              'n_estimators': [5, 6, 7, 8, 9, 10, 11, 12, 13, 15]\n",
    "              }\n",
    "              \n",
    "g_search = GridSearchCV(estimator = RandomForestRegressor(), param_grid = param_grid, \n",
    "                        cv = 5, n_jobs = 1, verbose = 0,\n",
    "                        return_train_score=True)\n",
    "g_search.fit(train_x, train_y)\n",
    "## save output \n",
    "df_grid = pd.concat([pd.DataFrame(g_search.cv_results_[\"params\"]),\n",
    "                     pd.DataFrame(g_search.cv_results_[\"mean_test_score\"], \n",
    "                                  columns=[\"mean_test_score\"]),\n",
    "                     pd.DataFrame(g_search.cv_results_[\"rank_test_score\"], \n",
    "                                  columns=[\"rank_test_score\"])],axis=1)\n",
    "df_grid.to_csv(\"Data/rf_gridsearch.csv\", index=False)"
   ]
  },
  {
   "cell_type": "code",
   "execution_count": 28,
   "metadata": {},
   "outputs": [
    {
     "name": "stdout",
     "output_type": "stream",
     "text": [
      "r2_score on train data:  0.6061230999997134\n",
      "r2_score on test data:  0.6135636989932406\n"
     ]
    }
   ],
   "source": [
    "\n",
    "model_rf = RandomForestRegressor( bootstrap=True, max_depth=5, max_features='auto', n_estimators=13, random_state=42) \n",
    "# fit the model with the training data\n",
    "model_rf.fit(train_x, train_y)\n",
    "# predict the target on train and test data\n",
    "predict_train = model_rf.predict(train_x)\n",
    "predict_test = model_rf.predict(test_x)  \n",
    "# get the coef\n",
    "# coef = pd.Series(model_rf.coef_, model_rf.feature_names_in_, name = 'value').sort_values()\n",
    "# coefs.append(coef)\n",
    "\n",
    "print('r2_score on train data: ', r2_score(train_y, predict_train))\n",
    "print('r2_score on test data: ',  r2_score(test_y, predict_test))   "
   ]
  },
  {
   "cell_type": "code",
   "execution_count": 29,
   "metadata": {},
   "outputs": [
    {
     "data": {
      "image/png": "[encoded data removed]",
      "text/plain": [
       "<Figure size 432x288 with 1 Axes>"
      ]
     },
     "metadata": {
      "needs_background": "light"
     },
     "output_type": "display_data"
    }
   ],
   "source": [
    "## best performer \n",
    "feature_impt = pd.Series(model_rf.feature_importances_, model_rf.feature_names_in_, name = 'value').sort_values()\n",
    "feature_impt[feature_impt>0.01].plot(kind = 'bar')\n",
    "## save output \n",
    "pd.DataFrame(feature_impt[feature_impt>0]).to_csv('Data/rf_featureimpt.csv')"
   ]
  },
  {
   "cell_type": "markdown",
   "metadata": {},
   "source": [
    "## Plotting some useful figures "
   ]
  },
  {
   "cell_type": "code",
   "execution_count": 30,
   "metadata": {},
   "outputs": [
    {
     "data": {
      "text/plain": [
       "<matplotlib.axes._subplots.AxesSubplot at 0x21ac2d9b3a0>"
      ]
     },
     "execution_count": 30,
     "metadata": {},
     "output_type": "execute_result"
    },
    {
     "data": {
      "image/png": "[encoded data removed]",
      "text/plain": [
       "<Figure size 576x396 with 1 Axes>"
      ]
     },
     "metadata": {},
     "output_type": "display_data"
    }
   ],
   "source": [
    "# separate the predictors and target variable \n",
    "train_X = data.drop(columns=['Item_Identifier','Item_Outlet_Sales'])\n",
    "train_Y = data['Item_Outlet_Sales']\n",
    "\n",
    "# randomly split the data\n",
    "train_x, test_x, train_y, test_y = train_test_split(train_X, train_Y,test_size=0.2,random_state=0)\n",
    "\n",
    "# shape of train and test splits\n",
    "train_x.shape, test_x.shape, train_y.shape, test_y.shape\n",
    "\n",
    "\n",
    "# Try plot a learning curve\n",
    "from sklearn.linear_model import RidgeCV\n",
    "from yellowbrick.model_selection import LearningCurve\n",
    "\n",
    "# Instantiate the regression model and visualizer\n",
    "model = linear_model.LinearRegression()\n",
    "visualizer = LearningCurve(model, scoring='r2')\n",
    "\n",
    "visualizer.fit(train_X, train_Y)        # Fit the data to the visualizer\n",
    "visualizer.show('Reports/lmlearningcurve.png')           # Finalize and render the figure\n",
    "\n",
    "\n"
   ]
  },
  {
   "cell_type": "code",
   "execution_count": 31,
   "metadata": {},
   "outputs": [
    {
     "data": {
      "text/plain": [
       "<matplotlib.axes._subplots.AxesSubplot at 0x21ac2e10a00>"
      ]
     },
     "execution_count": 31,
     "metadata": {},
     "output_type": "execute_result"
    },
    {
     "data": {
      "image/png": "[encoded data removed]",
      "text/plain": [
       "<Figure size 576x396 with 1 Axes>"
      ]
     },
     "metadata": {},
     "output_type": "display_data"
    }
   ],
   "source": [
    "from yellowbrick.model_selection import ValidationCurve\n",
    "viz = ValidationCurve(\n",
    "    RandomForestRegressor(), param_name=\"max_depth\",\n",
    "    param_range=np.arange(1, 11), cv=10, scoring=\"r2\"\n",
    ")\n",
    "\n",
    "# Fit and show the visualizer\n",
    "viz.fit(train_X, train_Y)\n",
    "viz.show(outpath='Reports/rf_maxdepth.png')"
   ]
  },
  {
   "cell_type": "code",
   "execution_count": 32,
   "metadata": {},
   "outputs": [
    {
     "name": "stderr",
     "output_type": "stream",
     "text": [
      "C:\\anaconda\\lib\\site-packages\\sklearn\\linear_model\\_glm\\link.py:90: RuntimeWarning: overflow encountered in exp\n",
      "  return np.exp(lin_pred)\n",
      "C:\\anaconda\\lib\\site-packages\\sklearn\\linear_model\\_glm\\link.py:93: RuntimeWarning: overflow encountered in exp\n",
      "  return np.exp(lin_pred)\n",
      "C:\\anaconda\\lib\\site-packages\\sklearn\\linear_model\\_glm\\glm.py:42: RuntimeWarning: overflow encountered in multiply\n",
      "  temp = d1 * family.deviance_derivative(y, y_pred, weights)\n",
      "C:\\anaconda\\lib\\site-packages\\sklearn\\linear_model\\_glm\\glm.py:44: RuntimeWarning: invalid value encountered in matmul\n",
      "  devp = np.concatenate(([temp.sum()], temp @ X))\n",
      "C:\\anaconda\\lib\\site-packages\\sklearn\\_loss\\glm_distribution.py:316: RuntimeWarning: overflow encountered in square\n",
      "  dev = (y - y_pred) ** 2\n",
      "C:\\anaconda\\lib\\site-packages\\sklearn\\linear_model\\_glm\\link.py:90: RuntimeWarning: overflow encountered in exp\n",
      "  return np.exp(lin_pred)\n",
      "C:\\anaconda\\lib\\site-packages\\sklearn\\linear_model\\_glm\\link.py:93: RuntimeWarning: overflow encountered in exp\n",
      "  return np.exp(lin_pred)\n",
      "C:\\anaconda\\lib\\site-packages\\sklearn\\linear_model\\_glm\\glm.py:42: RuntimeWarning: overflow encountered in multiply\n",
      "  temp = d1 * family.deviance_derivative(y, y_pred, weights)\n",
      "C:\\anaconda\\lib\\site-packages\\sklearn\\linear_model\\_glm\\glm.py:44: RuntimeWarning: invalid value encountered in matmul\n",
      "  devp = np.concatenate(([temp.sum()], temp @ X))\n",
      "C:\\anaconda\\lib\\site-packages\\sklearn\\_loss\\glm_distribution.py:316: RuntimeWarning: overflow encountered in square\n",
      "  dev = (y - y_pred) ** 2\n"
     ]
    },
    {
     "data": {
      "text/plain": [
       "<matplotlib.axes._subplots.AxesSubplot at 0x21ac2e44610>"
      ]
     },
     "execution_count": 32,
     "metadata": {},
     "output_type": "execute_result"
    },
    {
     "data": {
      "image/png": "[encoded data removed]",
      "text/plain": [
       "<Figure size 576x396 with 1 Axes>"
      ]
     },
     "metadata": {},
     "output_type": "display_data"
    }
   ],
   "source": [
    "\n",
    "from yellowbrick.model_selection import LearningCurve\n",
    "\n",
    "model = linear_model.TweedieRegressor(link='log',   max_iter=3000)\n",
    "visualizer = LearningCurve(model, scoring='r2')\n",
    "\n",
    "visualizer.fit(train_x, train_y)        # Fit the data to the visualizer\n",
    "visualizer.show(outpath= 'Reports/glmLearningCurve.png')\n",
    "\n"
   ]
  },
  {
   "cell_type": "code",
   "execution_count": 33,
   "metadata": {},
   "outputs": [
    {
     "name": "stderr",
     "output_type": "stream",
     "text": [
      "C:\\anaconda\\lib\\site-packages\\sklearn\\linear_model\\_coordinate_descent.py:645: ConvergenceWarning: Objective did not converge. You might want to increase the number of iterations, check the scale of the features or consider increasing regularisation. Duality gap: 4.322e+09, tolerance: 1.983e+06\n",
      "  model = cd_fast.enet_coordinate_descent(\n",
      "C:\\anaconda\\lib\\site-packages\\sklearn\\linear_model\\_coordinate_descent.py:645: ConvergenceWarning: Objective did not converge. You might want to increase the number of iterations, check the scale of the features or consider increasing regularisation. Duality gap: 4.318e+09, tolerance: 1.983e+06\n",
      "  model = cd_fast.enet_coordinate_descent(\n",
      "C:\\anaconda\\lib\\site-packages\\sklearn\\linear_model\\_coordinate_descent.py:645: ConvergenceWarning: Objective did not converge. You might want to increase the number of iterations, check the scale of the features or consider increasing regularisation. Duality gap: 4.042e+09, tolerance: 1.983e+06\n",
      "  model = cd_fast.enet_coordinate_descent(\n"
     ]
    },
    {
     "name": "stdout",
     "output_type": "stream",
     "text": [
      "Optimal regularization parameter : 0.004641588833612777\n"
     ]
    }
   ],
   "source": [
    "# Compute train and test errors\n",
    "from sklearn import linear_model\n",
    "alphas = np.logspace(-5, 1, 10)\n",
    "enet = linear_model.ElasticNet(l1_ratio=0.7, max_iter=10000)\n",
    "train_errors = list()\n",
    "test_errors = list()\n",
    "for alpha in alphas:\n",
    "    enet.set_params(alpha=alpha)\n",
    "    enet.fit(train_x, train_y)\n",
    "    train_errors.append(enet.score(train_x, train_y))\n",
    "    test_errors.append(enet.score(test_x, test_y))\n",
    "\n",
    "i_alpha_optim = np.argmax(test_errors)\n",
    "alpha_optim = alphas[i_alpha_optim]\n",
    "print(\"Optimal regularization parameter : %s\" % alpha_optim)\n",
    "\n",
    "# Estimate the coef_ on full data with optimal regularization parameter\n",
    "enet.set_params(alpha=alpha_optim)\n",
    "coef_ = enet.fit(train_x, train_y).coef_"
   ]
  },
  {
   "cell_type": "code",
   "execution_count": 34,
   "metadata": {},
   "outputs": [
    {
     "data": {
      "image/png": "[encoded data removed]",
      "text/plain": [
       "<Figure size 576x396 with 2 Axes>"
      ]
     },
     "metadata": {},
     "output_type": "display_data"
    }
   ],
   "source": [
    "plt.subplot(2, 1, 1)\n",
    "plt.semilogx(alphas, train_errors, label=\"Train\")\n",
    "plt.semilogx(alphas, test_errors, label=\"Test\")\n",
    "plt.vlines(\n",
    "    alpha_optim,\n",
    "    plt.ylim()[0],\n",
    "    np.max(test_errors),\n",
    "    color=\"k\",\n",
    "    linewidth=3,\n",
    "    label=\"Optimum on test\",\n",
    ")\n",
    "plt.legend(loc=\"lower left\")\n",
    "plt.ylim([0, 1.2])\n",
    "plt.xlabel(\"Regularization parameter\")\n",
    "plt.ylabel(\"Performance\")\n",
    "\n",
    "# Show estimated coef_ vs true coef\n",
    "plt.subplot(2, 1, 2)\n",
    "\n",
    "plt.plot(coef_, label=\"Estimated coef\")\n",
    "plt.legend()\n",
    "plt.subplots_adjust(0.09, 0.04, 0.94, 0.94, 0.26, 0.26)\n",
    "plt.show()"
   ]
  },
  {
   "cell_type": "code",
   "execution_count": 35,
   "metadata": {},
   "outputs": [],
   "source": [
    "# some feature enigeering change supermarket type 2 to 1\n",
    "\n",
    "# data.loc[data['Item_Type'].isin(['Household', 'Health and Hygiene']), 'Item_Type'] = 'Noneedible'\n",
    "# data.loc[data['Outlet_Type'].eq('Supermarket Type2'), 'Outlet_Type'] = 'Supermarket Type1'"
   ]
  }
 ],
 "metadata": {
  "interpreter": {
   "hash": "513dc2e41d739bb2c947903f3c0bbf636d03aa53ab50e61c694a27481c81805e"
  },
  "kernelspec": {
   "display_name": "Python 3.8.3 64-bit ('base': conda)",
   "language": "python",
   "name": "python3"
  },
  "language_info": {
   "codemirror_mode": {
    "name": "ipython",
    "version": 3
   },
   "file_extension": ".py",
   "mimetype": "text/x-python",
   "name": "python",
   "nbconvert_exporter": "python",
   "pygments_lexer": "ipython3",
   "version": "3.8.3"
  },
  "orig_nbformat": 4
 },
 "nbformat": 4,
 "nbformat_minor": 2
}
